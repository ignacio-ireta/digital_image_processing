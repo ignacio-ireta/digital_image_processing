{
 "cells": [
  {
   "cell_type": "markdown",
   "metadata": {},
   "source": [
    "# Blood Vessel Segmentation from Fundus Images\n",
    "\n",
    "## Introduction\n",
    "\n",
    "This notebook implements a blood vessel segmentation algorithm for fundus images from the DIARETDB1 database. The goal is to isolate and highlight the blood vessels in retinal images using image processing techniques and morphological operations.\n",
    "\n",
    "The algorithm follows two main stages:\n",
    "1. **Preprocessing**: Enhancing image features and reducing noise\n",
    "2. **Segmentation**: Producing a grayscale image that highlights the blood vessels\n",
    "\n",
    "The implementation uses only standard image processing methods from libraries such as OpenCV and NumPy, with an emphasis on morphological operations."
   ]
  },
  {
   "cell_type": "markdown",
   "metadata": {},
   "source": [
    "## Development\n",
    "\n",
    "### Libraries and Dependencies\n",
    "\n",
    "First, we import the necessary libraries for image processing and file handling:"
   ]
  },
  {
   "cell_type": "code",
   "execution_count": null,
   "metadata": {},
   "outputs": [],
   "source": [
    "# Import necessary libraries\n",
    "import cv2\n",
    "import numpy as np\n",
    "import matplotlib.pyplot as plt\n",
    "import os\n",
    "from pathlib import Path\n",
    "\n",
    "# Configure matplotlib for displaying images\n",
    "%matplotlib inline\n",
    "plt.rcParams['figure.figsize'] = (15, 10)\n",
    "\n",
    "# Check OpenCV version\n",
    "print(f\"OpenCV Version: {cv2.__version__}\")"
   ]
  },
  {
   "cell_type": "markdown",
   "metadata": {},
   "source": [
    "### Setup Directory Structure\n",
    "\n",
    "Next, we'll set up the input and output directories:"
   ]
  },
  {
   "cell_type": "code",
   "execution_count": null,
   "metadata": {},
   "outputs": [],
   "source": [
    "# Define directories\n",
    "INPUT_DIR = \"Input_Images\"\n",
    "OUTPUT_DIR = \"Output_Images\"\n",
    "\n",
    "# Create output directory if it doesn't exist\n",
    "if not os.path.exists(OUTPUT_DIR):\n",
    "    os.makedirs(OUTPUT_DIR)\n",
    "    print(f\"Created output directory: {OUTPUT_DIR}\")\n",
    "else:\n",
    "    print(f\"Output directory already exists: {OUTPUT_DIR}\")\n",
    "\n",
    "# Check if input directory exists and contains images\n",
    "if not os.path.exists(INPUT_DIR):\n",
    "    print(f\"Warning: Input directory '{INPUT_DIR}' does not exist!\")\n",
    "else:\n",
    "    image_files = [f for f in os.listdir(INPUT_DIR) if f.lower().endswith(('.png', '.jpg', '.jpeg', '.tif', '.bmp'))]\n",
    "    print(f\"Found {len(image_files)} image files in the input directory\")"
   ]
  },
  {
   "cell_type": "markdown",
   "metadata": {},
   "source": [
    "### Helper Functions for Image Display\n",
    "\n",
    "Let's define some utility functions to help display and compare images:"
   ]
  },
  {
   "cell_type": "code",
   "execution_count": null,
   "metadata": {},
   "outputs": [],
   "source": [
    "def display_image(image, title=\"Image\", cmap=None):\n",
    "    \"\"\"Display a single image with title\"\"\"\n",
    "    plt.figure(figsize=(10, 8))\n",
    "    plt.imshow(image, cmap=cmap)\n",
    "    plt.title(title)\n",
    "    plt.axis('off')\n",
    "    plt.tight_layout()\n",
    "    plt.show()\n",
    "\n",
    "def display_multiple(images, titles=None, cmap=None, rows=1):\n",
    "    \"\"\"Display multiple images side by side\"\"\"\n",
    "    n = len(images)\n",
    "    if titles is None:\n",
    "        titles = ['Image (%d)' % i for i in range(1, n + 1)]\n",
    "    fig, axes = plt.subplots(rows, n // rows + (1 if n % rows else 0), figsize=(15, 5 * rows))\n",
    "    if n == 1:\n",
    "        axes = [axes]\n",
    "    elif rows > 1:\n",
    "        axes = axes.flat\n",
    "    \n",
    "    for i, (image, title) in enumerate(zip(images, titles)):\n",
    "        if i < len(axes):\n",
    "            if len(image.shape) == 2 or image.shape[2] == 1:  # Grayscale\n",
    "                axes[i].imshow(image, cmap=cmap or 'gray')\n",
    "            else:  # Color (BGR to RGB for display)\n",
    "                if image.shape[2] == 3:  # Check if it has 3 channels\n",
    "                    axes[i].imshow(cv2.cvtColor(image, cv2.COLOR_BGR2RGB))\n",
    "                else:\n",
    "                    axes[i].imshow(image)\n",
    "            axes[i].set_title(title)\n",
    "            axes[i].axis('off')\n",
    "    \n",
    "    plt.tight_layout()\n",
    "    plt.show()"
   ]
  },
  {
   "cell_type": "markdown",
   "metadata": {},
   "source": [
    "## Algorithm\n",
    "\n",
    "Now, let's implement the blood vessel segmentation algorithm. The algorithm consists of two main stages:\n",
    "\n",
    "1. **Preprocessing**: Enhance the image and reduce noise\n",
    "2. **Segmentation**: Extract the blood vessels and highlight them\n",
    "\n",
    "### Preprocessing Functions\n",
    "\n",
    "First, let's define the preprocessing functions:"
   ]
  },
  {
   "cell_type": "code",
   "execution_count": null,
   "metadata": {},
   "outputs": [],
   "source": [
    "def preprocess_fundus_image(image):\n",
    "    \"\"\"Preprocess the fundus image to enhance vessel features and reduce noise\"\"\"\n",
    "    # Convert to grayscale if not already\n",
    "    if len(image.shape) > 2:\n",
    "        # Extract the green channel which provides best vessel contrast in fundus images\n",
    "        green_channel = image[:, :, 1]\n",
    "    else:\n",
    "        green_channel = image.copy()\n",
    "    \n",
    "    # Apply CLAHE (Contrast Limited Adaptive Histogram Equalization) to enhance contrast\n",
    "    clahe = cv2.createCLAHE(clipLimit=2.0, tileGridSize=(8, 8))\n",
    "    clahe_image = clahe.apply(green_channel)\n",
    "    \n",
    "    # Remove noise using Gaussian blur\n",
    "    blurred_image = cv2.GaussianBlur(clahe_image, (5, 5), 0)\n",
    "    \n",
    "    # Apply morphological operations to enhance vessel structures\n",
    "    # Create a structuring element for morphological operations\n",
    "    kernel = cv2.getStructuringElement(cv2.MORPH_ELLIPSE, (5, 5))\n",
    "    \n",
    "    # Top-hat transform to enhance bright objects against dark background\n",
    "    tophat_image = cv2.morphologyEx(blurred_image, cv2.MORPH_TOPHAT, kernel)\n",
    "    \n",
    "    # Apply sharpening to enhance edges\n",
    "    enhanced_image = cv2.addWeighted(clahe_image, 1.5, tophat_image, 0.5, 0)\n",
    "    \n",
    "    return enhanced_image"
   ]
  },
  {
   "cell_type": "markdown",
   "metadata": {},
   "source": [
    "### Segmentation Functions\n",
    "\n",
    "Now, let's implement the vessel segmentation function:"
   ]
  },
  {
   "cell_type": "code",
   "execution_count": null,
   "metadata": {},
   "outputs": [],
   "source": [
    "def segment_vessels(preprocessed_image):\n",
    "    \"\"\"Segment the blood vessels from the preprocessed image\"\"\"\n",
    "    # Apply Frangi filter to enhance vessels (a vessel enhancement filter)\n",
    "    # Since Frangi filter isn't directly in OpenCV, we'll simulate it with edge detection and morphology\n",
    "    \n",
    "    # Apply edge detection using Sobel operator\n",
    "    sobelx = cv2.Sobel(preprocessed_image, cv2.CV_64F, 1, 0, ksize=3)\n",
    "    sobely = cv2.Sobel(preprocessed_image, cv2.CV_64F, 0, 1, ksize=3)\n",
    "    \n",
    "    # Compute the magnitude of gradient\n",
    "    magnitude = cv2.magnitude(sobelx, sobely)\n",
    "    \n",
    "    # Normalize to 0-255 range\n",
    "    magnitude = cv2.normalize(magnitude, None, 0, 255, cv2.NORM_MINMAX, dtype=cv2.CV_8U)\n",
    "    \n",
    "    # Apply adaptive thresholding to get vessel candidates\n",
    "    # We're keeping it grayscale rather than binary as per requirements\n",
    "    vessel_candidates = cv2.adaptiveThreshold(\n",
    "        preprocessed_image, \n",
    "        255, \n",
    "        cv2.ADAPTIVE_THRESH_GAUSSIAN_C, \n",
    "        cv2.THRESH_BINARY_INV, \n",
    "        11, \n",
    "        2\n",
    "    )\n",
    "    \n",
    "    # Combine the edge information with the vessel candidates\n",
    "    segmented = cv2.bitwise_and(magnitude, vessel_candidates)\n",
    "    \n",
    "    # Apply morphological operations to clean up the segmentation\n",
    "    kernel = cv2.getStructuringElement(cv2.MORPH_ELLIPSE, (3, 3))\n",
    "    segmented = cv2.morphologyEx(segmented, cv2.MORPH_OPEN, kernel)\n",
    "    \n",
    "    # Apply a small amount of Gaussian blur to smooth the result\n",
    "    segmented = cv2.GaussianBlur(segmented, (3, 3), 0)\n",
    "    \n",
    "    return segmented"
   ]
  },
  {
   "cell_type": "markdown",
   "metadata": {},
   "source": [
    "### Alternative Segmentation Method\n",
    "\n",
    "Let's also implement an alternative segmentation method using a different approach:"
   ]
  },
  {
   "cell_type": "code",
   "execution_count": null,
   "metadata": {},
   "outputs": [],
   "source": [
    "def segment_vessels_alternative(preprocessed_image):\n",
    "    \"\"\"Alternative method for vessel segmentation using morphological operations\"\"\"\n",
    "    # Create structuring elements of different sizes\n",
    "    kernel_small = cv2.getStructuringElement(cv2.MORPH_ELLIPSE, (3, 3))\n",
    "    kernel_medium = cv2.getStructuringElement(cv2.MORPH_ELLIPSE, (5, 5))\n",
    "    \n",
    "    # Apply black-hat transform to extract dark vessels\n",
    "    blackhat = cv2.morphologyEx(preprocessed_image, cv2.MORPH_BLACKHAT, kernel_medium)\n",
    "    \n",
    "    # Apply adaptive thresholding to enhance vessels\n",
    "    thresh = cv2.adaptiveThreshold(\n",
    "        blackhat, \n",
    "        255, \n",
    "        cv2.ADAPTIVE_THRESH_GAUSSIAN_C, \n",
    "        cv2.THRESH_BINARY, \n",
    "        11, \n",
    "        2\n",
    "    )\n",
    "    \n",
    "    # Apply opening to remove small noise\n",
    "    opening = cv2.morphologyEx(thresh, cv2.MORPH_OPEN, kernel_small)\n",
    "    \n",
    "    # Apply dilation to slightly thicken the vessels\n",
    "    dilated = cv2.dilate(opening, kernel_small, iterations=1)\n",
    "    \n",
    "    # Combine the original preprocessed image with the vessel mask\n",
    "    segmented = cv2.addWeighted(preprocessed_image, 0.7, dilated, 0.3, 0)\n",
    "    \n",
    "    # Apply a small amount of Gaussian blur to smooth the result\n",
    "    segmented = cv2.GaussianBlur(segmented, (3, 3), 0)\n",
    "    \n",
    "    return segmented"
   ]
  },
  {
   "cell_type": "markdown",
   "metadata": {},
   "source": [
    "### Complete Pipeline Function\n",
    "\n",
    "Now, let's create a full pipeline function that processes a single image through all the steps:"
   ]
  },
  {
   "cell_type": "code",
   "execution_count": null,
   "metadata": {},
   "outputs": [],
   "source": [
    "def process_image(image_path, method=\"standard\"):\n",
    "    \"\"\"Process a single fundus image and return intermediate and final results\"\"\"\n",
    "    # Load the image\n",
    "    image = cv2.imread(image_path)\n",
    "    if image is None:\n",
    "        print(f\"Error: Could not load image from {image_path}\")\n",
    "        return None, None, None\n",
    "    \n",
    "    # Preprocess the image\n",
    "    preprocessed = preprocess_fundus_image(image)\n",
    "    \n",
    "    # Segment the vessels\n",
    "    if method == \"standard\":\n",
    "        segmented = segment_vessels(preprocessed)\n",
    "    else:  # alternative method\n",
    "        segmented = segment_vessels_alternative(preprocessed)\n",
    "    \n",
    "    return image, preprocessed, segmented"
   ]
  },
  {
   "cell_type": "markdown",
   "metadata": {},
   "source": [
    "### Batch Processing Function\n",
    "\n",
    "Finally, let's implement a function to process all images in the input directory:"
   ]
  },
  {
   "cell_type": "code",
   "execution_count": null,
   "metadata": {},
   "outputs": [],
   "source": [
    "def process_all_images(input_dir=INPUT_DIR, output_dir=OUTPUT_DIR, method=\"standard\"):\n",
    "    \"\"\"Process all images in the input directory and save results to the output directory\"\"\"\n",
    "    # Get list of image files\n",
    "    image_files = [f for f in os.listdir(input_dir) if f.lower().endswith(('.png', '.jpg', '.jpeg', '.tif', '.bmp'))]\n",
    "    \n",
    "    if not image_files:\n",
    "        print(\"No image files found in the input directory\")\n",
    "        return\n",
    "    \n",
    "    # Process each image\n",
    "    for image_file in image_files:\n",
    "        image_path = os.path.join(input_dir, image_file)\n",
    "        print(f\"Processing {image_file}...\")\n",
    "        \n",
    "        # Process the image\n",
    "        original, preprocessed, segmented = process_image(image_path, method)\n",
    "        \n",
    "        if original is None:\n",
    "            continue\n",
    "        \n",
    "        # Save the results\n",
    "        base_name = os.path.splitext(image_file)[0]\n",
    "        \n",
    "        # Save preprocessed image\n",
    "        preprocessed_path = os.path.join(output_dir, f\"{base_name}_preprocessed.png\")\n",
    "        cv2.imwrite(preprocessed_path, preprocessed)\n",
    "        \n",
    "        # Save segmented image\n",
    "        segmented_path = os.path.join(output_dir, f\"{base_name}_segmented.png\")\n",
    "        cv2.imwrite(segmented_path, segmented)\n",
    "        \n",
    "        print(f\"Saved results for {image_file}\")\n",
    "        \n",
    "    print(f\"Processed {len(image_files)} images\")"
   ]
  },
  {
   "cell_type": "markdown",
   "metadata": {},
   "source": [
    "## Results\n",
    "\n",
    "Now, let's process a sample image to demonstrate the algorithm:"
   ]
  },
  {
   "cell_type": "code",
   "execution_count": null,
   "metadata": {},
   "outputs": [],
   "source": [
    "# Check if there are any images in the input directory\n",
    "image_files = [f for f in os.listdir(INPUT_DIR) if f.lower().endswith(('.png', '.jpg', '.jpeg', '.tif', '.bmp'))]\n",
    "\n",
    "if not image_files:\n",
    "    print(\"No image files found in the input directory. Please add some images to the Input_Images folder.\")\n",
    "else:\n",
    "    # Process the first image as an example\n",
    "    sample_image_path = os.path.join(INPUT_DIR, image_files[0])\n",
    "    print(f\"Processing sample image: {image_files[0]}\")\n",
    "    \n",
    "    # Process using the standard method\n",
    "    original, preprocessed, segmented = process_image(sample_image_path, method=\"standard\")\n",
    "    \n",
    "    # Display the results\n",
    "    if original is not None:\n",
    "        # Convert original from BGR to RGB for display\n",
    "        original_rgb = cv2.cvtColor(original, cv2.COLOR_BGR2RGB)\n",
    "        \n",
    "        # Display the original, preprocessed, and segmented images\n",
    "        display_multiple(\n",
    "            [original_rgb, preprocessed, segmented],\n",
    "            titles=[\"Original Image\", \"Preprocessed Image\", \"Segmented Vessels\"],\n",
    "            cmap=None\n",
    "        )"
   ]
  },
  {
   "cell_type": "markdown",
   "metadata": {},
   "source": [
    "Let's also try the alternative segmentation method on the same image for comparison:"
   ]
  },
  {
   "cell_type": "code",
   "execution_count": null,
   "metadata": {},
   "outputs": [],
   "source": [
    "if len(image_files) > 0:\n",
    "    # Process using the alternative method\n",
    "    original, preprocessed, segmented_alt = process_image(sample_image_path, method=\"alternative\")\n",
    "    \n",
    "    # Display the results\n",
    "    if original is not None:\n",
    "        # Convert original from BGR to RGB for display\n",
    "        original_rgb = cv2.cvtColor(original, cv2.COLOR_BGR2RGB)\n",
    "        \n",
    "        # Display the original, preprocessed, and segmented images\n",
    "        display_multiple(\n",
    "            [original_rgb, segmented, segmented_alt],\n",
    "            titles=[\"Original Image\", \"Standard Segmentation\", \"Alternative Segmentation\"],\n",
    "            cmap=None\n",
    "        )"
   ]
  },
  {
   "cell_type": "markdown",
   "metadata": {},
   "source": [
    "Now, let's process all images in the input directory and save the results:"
   ]
  },
  {
   "cell_type": "code",
   "execution_count": null,
   "metadata": {},
   "outputs": [],
   "source": [
    "# Process all images using the standard method\n",
    "print(\"Processing all images using the standard method...\")\n",
    "process_all_images(method=\"standard\")"
   ]
  },
  {
   "cell_type": "markdown",
   "metadata": {},
   "source": [
    "Let's also process all images using the alternative method for comparison:"
   ]
  },
  {
   "cell_type": "code",
   "execution_count": null,
   "metadata": {},
   "outputs": [],
   "source": [
    "# Process all images using the alternative method\n",
    "print(\"Processing all images using the alternative method...\")\n",
    "process_all_images(method=\"alternative\")"
   ]
  },
  {
   "cell_type": "markdown",
   "metadata": {},
   "source": [
    "## Conclusions\n",
    "\n",
    "This notebook presents an algorithm for segmenting blood vessels from fundus images using standard image processing techniques and morphological operations. The segmentation pipeline consists of two main stages:\n",
    "\n",
    "1. **Preprocessing**: We enhance the image features and reduce noise by:\n",
    "   - Extracting the green channel (which provides the best vessel contrast)\n",
    "   - Applying CLAHE for contrast enhancement\n",
    "   - Using Gaussian blur for noise reduction\n",
    "   - Applying morphological operations to enhance vessel structures\n",
    "\n",
    "2. **Segmentation**: We extract and highlight the blood vessels by:\n",
    "   - Applying edge detection using Sobel operators\n",
    "   - Using adaptive thresholding to identify vessel candidates\n",
    "   - Combining edge information with vessel candidates\n",
    "   - Applying morphological operations to clean up the segmentation\n",
    "\n",
    "We also implemented an alternative segmentation method using black-hat transform and different morphological operations for comparison.\n",
    "\n",
    "### Observations\n",
    "\n",
    "- The preprocessing stage is crucial for successful vessel segmentation, as it enhances the contrast between vessels and background.\n",
    "- The standard segmentation method using edge detection and adaptive thresholding yields good results for vessel extraction.\n",
    "- The alternative method using black-hat transform provides a different perspective, potentially capturing different vessel characteristics.\n",
    "\n",
    "### Potential Improvements\n",
    "\n",
    "- Fine-tuning of parameters (kernel sizes, thresholds, etc.) for specific datasets\n",
    "- Implementation of more advanced vessel enhancement filters (e.g., proper Frangi filter)\n",
    "- Incorporation of machine learning techniques for more accurate vessel segmentation\n",
    "- Development of quantitative evaluation metrics if ground truth vessel masks are available\n",
    "\n",
    "Overall, the algorithm provides a solid foundation for blood vessel segmentation from fundus images using standard image processing techniques, meeting the project requirements."
   ]
  },
  {
   "cell_type": "markdown",
   "metadata": {},
   "source": [
    "## Source Code\n",
    "\n",
    "The complete source code for this project is presented in the cells above. The key components are:\n",
    "\n",
    "1. **Directory Setup**: Creating and managing input/output directories\n",
    "2. **Preprocessing**: Functions for enhancing image features and reducing noise\n",
    "3. **Segmentation**: Two methods for extracting and highlighting blood vessels\n",
    "4. **Image Processing Pipeline**: Functions for processing individual images and batches\n",
    "5. **Visualization**: Functions for displaying and comparing results\n",
    "\n",
    "The algorithm is designed to be modular, allowing for easy experimentation with different preprocessing and segmentation techniques. The output is maintained in grayscale format as per the project requirements, with higher intensity values highlighting the blood vessel structures."
   ]
  }
 ],
 "metadata": {
  "kernelspec": {
   "display_name": "Python 3 (ipykernel)",
   "language": "python",
   "name": "python3"
  },
  "language_info": {
   "codemirror_mode": {
    "name": "ipython",
    "version": 3
   },
   "file_extension": ".py",
   "mimetype": "text/x-python",
   "name": "python",
   "nbconvert_exporter": "python",
   "pygments_lexer": "ipython3",
   "version": "3.12.8"
  }
 },
 "nbformat": 4,
 "nbformat_minor": 2
}